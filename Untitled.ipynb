{
 "cells": [
  {
   "cell_type": "code",
   "execution_count": 1,
   "id": "8494c36a",
   "metadata": {},
   "outputs": [],
   "source": [
    "import numpy as np"
   ]
  },
  {
   "cell_type": "code",
   "execution_count": 17,
   "id": "0d0ca28c",
   "metadata": {},
   "outputs": [],
   "source": [
    "X = np.array([[1, 1], [2, 1], [3, 1], [11, 1], [12, 1], [13, 1], [15, 1]])\n",
    "y = [0, 0, 0, 1, 1, 1, 1]"
   ]
  },
  {
   "cell_type": "code",
   "execution_count": 18,
   "id": "66d69c23",
   "metadata": {},
   "outputs": [],
   "source": [
    "a = np.array([1, 2, 3, 11, 12, 13, 15]).reshape(7, 1)\n",
    "b = np.array([0, 0, 0, 1, 1, 1, 1])"
   ]
  },
  {
   "cell_type": "code",
   "execution_count": 19,
   "id": "1d5798b3",
   "metadata": {},
   "outputs": [],
   "source": [
    "def h_theta(theta, x):\n",
    "    return (1/(1 + np.exp(-np.dot(theta.T, x))))"
   ]
  },
  {
   "cell_type": "code",
   "execution_count": 47,
   "id": "5cc85bba",
   "metadata": {},
   "outputs": [],
   "source": [
    "def gradient_descent(n_iter, alpha, number_of_features):\n",
    "    theta = np.array([[0]] * number_of_features)\n",
    "    for k in range(0, n_iter):\n",
    "        temp_0 = (1/7) * np.sum([(h_theta(theta, X[i]) - y[i]) * X[i][0] for i in range(0, 7)])\n",
    "        temp_1 = (1/7) * np.sum([(h_theta(theta, X[i]) - y[i]) * X[i][1] for i in range(0, 7)])\n",
    "        theta = theta - alpha * np.array([[temp_0], [temp_1]])\n",
    "    return theta"
   ]
  },
  {
   "cell_type": "code",
   "execution_count": 42,
   "id": "9d7e91b5",
   "metadata": {},
   "outputs": [
    {
     "data": {
      "text/plain": [
       "array([[0.375],\n",
       "       [0.375]])"
      ]
     },
     "execution_count": 42,
     "metadata": {},
     "output_type": "execute_result"
    }
   ],
   "source": [
    "gradient_descent(1000, 1/8, 2)"
   ]
  },
  {
   "cell_type": "code",
   "execution_count": 46,
   "id": "0002d383",
   "metadata": {},
   "outputs": [
    {
     "data": {
      "text/plain": [
       "array([[-2],\n",
       "       [-2]])"
      ]
     },
     "execution_count": 46,
     "metadata": {},
     "output_type": "execute_result"
    }
   ],
   "source": [
    "theta = np.array([[0]] * 2)\n",
    "temp = np.array([[1]] * 2)\n",
    "theta - 2 * temp"
   ]
  },
  {
   "cell_type": "code",
   "execution_count": 7,
   "id": "a47ace4c",
   "metadata": {},
   "outputs": [
    {
     "data": {
      "text/plain": [
       "LogisticRegression()"
      ]
     },
     "execution_count": 7,
     "metadata": {},
     "output_type": "execute_result"
    }
   ],
   "source": [
    "from sklearn.linear_model import LogisticRegression\n",
    "clf = LogisticRegression()\n",
    "clf.fit(a, b)"
   ]
  },
  {
   "cell_type": "code",
   "execution_count": 8,
   "id": "22169497",
   "metadata": {},
   "outputs": [
    {
     "data": {
      "text/plain": [
       "(array([[0.75236383]]), array([-5.25116915]))"
      ]
     },
     "execution_count": 8,
     "metadata": {},
     "output_type": "execute_result"
    }
   ],
   "source": [
    "clf.coef_, clf.intercept_"
   ]
  }
 ],
 "metadata": {
  "kernelspec": {
   "display_name": "Python 3 (ipykernel)",
   "language": "python",
   "name": "python3"
  },
  "language_info": {
   "codemirror_mode": {
    "name": "ipython",
    "version": 3
   },
   "file_extension": ".py",
   "mimetype": "text/x-python",
   "name": "python",
   "nbconvert_exporter": "python",
   "pygments_lexer": "ipython3",
   "version": "3.9.12"
  },
  "toc": {
   "base_numbering": 1,
   "nav_menu": {},
   "number_sections": true,
   "sideBar": true,
   "skip_h1_title": false,
   "title_cell": "Table of Contents",
   "title_sidebar": "Contents",
   "toc_cell": false,
   "toc_position": {},
   "toc_section_display": true,
   "toc_window_display": false
  },
  "varInspector": {
   "cols": {
    "lenName": 16,
    "lenType": 16,
    "lenVar": 40
   },
   "kernels_config": {
    "python": {
     "delete_cmd_postfix": "",
     "delete_cmd_prefix": "del ",
     "library": "var_list.py",
     "varRefreshCmd": "print(var_dic_list())"
    },
    "r": {
     "delete_cmd_postfix": ") ",
     "delete_cmd_prefix": "rm(",
     "library": "var_list.r",
     "varRefreshCmd": "cat(var_dic_list()) "
    }
   },
   "types_to_exclude": [
    "module",
    "function",
    "builtin_function_or_method",
    "instance",
    "_Feature"
   ],
   "window_display": false
  }
 },
 "nbformat": 4,
 "nbformat_minor": 5
}
